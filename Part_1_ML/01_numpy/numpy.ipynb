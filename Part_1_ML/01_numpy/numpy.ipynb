{
 "cells": [
  {
   "cell_type": "raw",
   "id": "fde9d123-ca0f-4d5c-bc3b-c75f929a47b8",
   "metadata": {},
   "source": [
    "NUMPY - Numerical python \n",
    "\n",
    "Avantages of Numpy arrays are as follows:\n",
    "    1. Allows several mathematical operations.\n",
    "    2. Faster operations."
   ]
  },
  {
   "cell_type": "code",
   "execution_count": 1,
   "id": "66e798cf-21c0-4260-8d73-28fa00f6843e",
   "metadata": {},
   "outputs": [
    {
     "name": "stdout",
     "output_type": "stream",
     "text": [
      "Requirement already satisfied: numpy in c:\\users\\hp\\anaconda3\\lib\\site-packages (1.26.4)\n"
     ]
    }
   ],
   "source": [
    "#Command to install numpy\n",
    "\n",
    "!pip install numpy"
   ]
  },
  {
   "cell_type": "code",
   "execution_count": 2,
   "id": "ce549189-e0d8-43f1-a9c5-35e91132ba33",
   "metadata": {},
   "outputs": [],
   "source": [
    "#importing numpy\n",
    "import numpy as np"
   ]
  },
  {
   "cell_type": "code",
   "execution_count": 3,
   "id": "9d6e363a-f4bb-4d4a-b4be-885a7bf83f33",
   "metadata": {},
   "outputs": [
    {
     "name": "stdout",
     "output_type": "stream",
     "text": [
      "[1 2 3 4 5]\n",
      "Type of this array:  <class 'numpy.ndarray'>\n"
     ]
    }
   ],
   "source": [
    "#creating arrays in numpy\n",
    "my_array = np.array([1,2,3,4,5])\n",
    "print(my_array)\n",
    "print(\"Type of this array: \",type(my_array))"
   ]
  },
  {
   "cell_type": "code",
   "execution_count": 4,
   "id": "8019cbb7-16c5-4c0c-a197-09f701cb8d74",
   "metadata": {},
   "outputs": [
    {
     "name": "stdout",
     "output_type": "stream",
     "text": [
      "[1 2 3 4 5]\n",
      "Shape of this array:  (5,)\n"
     ]
    }
   ],
   "source": [
    "#1-D array\n",
    "array1D = np.array([1,2,3,4,5])\n",
    "print(array1D)\n",
    "print(\"Shape of this array: \",array1D.shape)"
   ]
  },
  {
   "cell_type": "code",
   "execution_count": 5,
   "id": "6544e6ac-505f-49de-b36a-fa402e1599fb",
   "metadata": {},
   "outputs": [
    {
     "name": "stdout",
     "output_type": "stream",
     "text": [
      "[[1 2 3 4]\n",
      " [4 5 6 8]]\n",
      "Shape of this array:  (2, 4)\n"
     ]
    }
   ],
   "source": [
    "#2-D array\n",
    "array2D = np.array([(1,2,3,4),(4,5,6,8)])\n",
    "print(array2D)\n",
    "print(\"Shape of this array: \", array2D.shape)"
   ]
  },
  {
   "cell_type": "code",
   "execution_count": 6,
   "id": "c12892dc-ce42-4432-ba1c-41593d1c5f6a",
   "metadata": {},
   "outputs": [
    {
     "name": "stdout",
     "output_type": "stream",
     "text": [
      "[[1. 2. 3. 4.]\n",
      " [5. 6. 7. 8.]]\n"
     ]
    }
   ],
   "source": [
    "#converting array from one datatype to another\n",
    "#by default datatype in numpy arrays are int\n",
    "new_Arr = np.array([(1,2,3,4),(5,6,7,8)], dtype=float)\n",
    "print(new_Arr)"
   ]
  },
  {
   "cell_type": "raw",
   "id": "a60baff9-ec41-45fa-9468-ad0b7a89f5a0",
   "metadata": {},
   "source": [
    "Intial placeholders in Numpy arrays"
   ]
  },
  {
   "cell_type": "code",
   "execution_count": 7,
   "id": "51c56ff8-b1e5-4334-a0ac-c93da5722cf1",
   "metadata": {},
   "outputs": [
    {
     "name": "stdout",
     "output_type": "stream",
     "text": [
      "[[0. 0. 0. 0.]\n",
      " [0. 0. 0. 0.]\n",
      " [0. 0. 0. 0.]]\n"
     ]
    }
   ],
   "source": [
    "#Initializing an array with all values as zero\n",
    "zero_arr = np.zeros((3,4))      #needs to mention the shape \n",
    "print(zero_arr)"
   ]
  },
  {
   "cell_type": "code",
   "execution_count": 8,
   "id": "8b0a8a14-0116-46dd-9a54-2057a632355a",
   "metadata": {},
   "outputs": [
    {
     "name": "stdout",
     "output_type": "stream",
     "text": [
      "[[1. 1. 1.]\n",
      " [1. 1. 1.]\n",
      " [1. 1. 1.]]\n"
     ]
    }
   ],
   "source": [
    "#Intializing an array with all values as one\n",
    "ones_arr = np.ones((3,3))\n",
    "print(ones_arr)"
   ]
  },
  {
   "cell_type": "code",
   "execution_count": 9,
   "id": "9dac690c-bbce-4e78-aef6-7acd2b28c2a4",
   "metadata": {},
   "outputs": [
    {
     "name": "stdout",
     "output_type": "stream",
     "text": [
      "[[8 8]\n",
      " [8 8]\n",
      " [8 8]]\n"
     ]
    }
   ],
   "source": [
    "#Initializing an array with particular value\n",
    "arr_X = np.full((3,2), 8)   #setting value 8 \n",
    "print(arr_X)"
   ]
  },
  {
   "cell_type": "code",
   "execution_count": 10,
   "id": "15bb910d-7d79-47fe-893b-0552d75b2be0",
   "metadata": {},
   "outputs": [
    {
     "name": "stdout",
     "output_type": "stream",
     "text": [
      "[[1. 0. 0. 0.]\n",
      " [0. 1. 0. 0.]\n",
      " [0. 0. 1. 0.]\n",
      " [0. 0. 0. 1.]]\n"
     ]
    }
   ],
   "source": [
    "#Creating an Identity matrix\n",
    "identity_arr = np.eye(4)\n",
    "print(identity_arr)"
   ]
  },
  {
   "cell_type": "code",
   "execution_count": 11,
   "id": "76f4e6d6-bb6f-4908-aa2c-9f3ebc22fdd6",
   "metadata": {},
   "outputs": [
    {
     "name": "stdout",
     "output_type": "stream",
     "text": [
      "[[0.2973809  0.42434402 0.88588524 0.56700405]\n",
      " [0.49578398 0.15852888 0.77089542 0.04425438]\n",
      " [0.62078715 0.53374699 0.06023498 0.49704452]]\n"
     ]
    }
   ],
   "source": [
    "#Creating an array with random values\n",
    "random_arr = np.random.random((3,4))  #all the random values lies between 0 and 1\n",
    "print(random_arr)"
   ]
  },
  {
   "cell_type": "code",
   "execution_count": 12,
   "id": "bd4f5ea6-e1ce-4044-a259-068731f5c8e2",
   "metadata": {},
   "outputs": [
    {
     "name": "stdout",
     "output_type": "stream",
     "text": [
      "[[40 40 27 26]\n",
      " [30 29 98 89]\n",
      " [27 54 59 88]]\n"
     ]
    }
   ],
   "source": [
    "#Creating an array with random values , but with integer type\n",
    "random_int_arr = np.random.randint(10,100,(3,4))     #random int values from 10 to 100\n",
    "print(random_int_arr)"
   ]
  },
  {
   "cell_type": "code",
   "execution_count": 13,
   "id": "5325c1f4-cb4e-4a6b-ba3c-e3acb0c68095",
   "metadata": {},
   "outputs": [
    {
     "name": "stdout",
     "output_type": "stream",
     "text": [
      "[10. 15. 20. 25. 30. 35. 40.]\n"
     ]
    }
   ],
   "source": [
    "#Evenly spaced value array --> specifying the number of values required\n",
    "evenly_spaced = np.linspace(10,40,7)   #spacing from 10 to 40 , and array will have 7 value with equal space\n",
    "print(evenly_spaced)"
   ]
  },
  {
   "cell_type": "code",
   "execution_count": 14,
   "id": "6781d8aa-a074-4185-8579-7104be8c791d",
   "metadata": {},
   "outputs": [
    {
     "name": "stdout",
     "output_type": "stream",
     "text": [
      "[10 17 24 31 38]\n"
     ]
    }
   ],
   "source": [
    "#Evenly spaced value array --> specifying the number of steps required\n",
    "step_evenly_spaced = np.arange(10,40,7)  #here 7 is steps\n",
    "print(step_evenly_spaced)"
   ]
  },
  {
   "cell_type": "code",
   "execution_count": 15,
   "id": "2aa48f7f-3b34-4165-b1fd-9263a4348b41",
   "metadata": {},
   "outputs": [
    {
     "name": "stdout",
     "output_type": "stream",
     "text": [
      "[10 20 30 40 50]\n"
     ]
    },
    {
     "data": {
      "text/plain": [
       "numpy.ndarray"
      ]
     },
     "execution_count": 15,
     "metadata": {},
     "output_type": "execute_result"
    }
   ],
   "source": [
    "#Converting a list into numpy array\n",
    "list_1 = [10,20,30,40,50]\n",
    "into_array = np.asarray(list_1)\n",
    "print(into_array)\n",
    "type(into_array)"
   ]
  },
  {
   "cell_type": "raw",
   "id": "677dd6bf-fd16-4d4f-9de5-bb9f3f9bcfa3",
   "metadata": {},
   "source": [
    "\"\""
   ]
  },
  {
   "cell_type": "raw",
   "id": "6f342221-f1fa-4f40-9ef8-0b5c402be4e2",
   "metadata": {},
   "source": [
    "ANALYZING AN NUMPY ARRAY"
   ]
  },
  {
   "cell_type": "code",
   "execution_count": 16,
   "id": "c9b65bd9-5455-47ea-8915-e03c4873e0ca",
   "metadata": {},
   "outputs": [
    {
     "name": "stdout",
     "output_type": "stream",
     "text": [
      "[[53 21 46 82 79]\n",
      " [76 62 76 33 18]\n",
      " [73 48 16 77 12]\n",
      " [13 63 41 22 86]\n",
      " [63 84 38 46 52]]\n"
     ]
    }
   ],
   "source": [
    "#Creating an numpy array for analysis\n",
    "test_arr = np.random.randint(10,90,(5,5))\n",
    "print(test_arr)"
   ]
  },
  {
   "cell_type": "code",
   "execution_count": 17,
   "id": "0934a0fb-53f1-4070-b69d-d1817b7da191",
   "metadata": {},
   "outputs": [
    {
     "data": {
      "text/plain": [
       "(5, 5)"
      ]
     },
     "execution_count": 17,
     "metadata": {},
     "output_type": "execute_result"
    }
   ],
   "source": [
    "#array dimension\n",
    "test_arr.shape"
   ]
  },
  {
   "cell_type": "code",
   "execution_count": 18,
   "id": "58172362-3d6e-4b8f-91de-791bc109909c",
   "metadata": {},
   "outputs": [
    {
     "data": {
      "text/plain": [
       "2"
      ]
     },
     "execution_count": 18,
     "metadata": {},
     "output_type": "execute_result"
    }
   ],
   "source": [
    "#number of dimensions\n",
    "test_arr.ndim"
   ]
  },
  {
   "cell_type": "code",
   "execution_count": 19,
   "id": "e3b63918-4974-4a41-83a6-32c74f9f76de",
   "metadata": {},
   "outputs": [
    {
     "data": {
      "text/plain": [
       "25"
      ]
     },
     "execution_count": 19,
     "metadata": {},
     "output_type": "execute_result"
    }
   ],
   "source": [
    "#number of elements present in an array\n",
    "test_arr.size"
   ]
  },
  {
   "cell_type": "code",
   "execution_count": 20,
   "id": "d87d708d-ae43-4ef3-b31c-6ee0dd1a613d",
   "metadata": {},
   "outputs": [
    {
     "data": {
      "text/plain": [
       "dtype('int32')"
      ]
     },
     "execution_count": 20,
     "metadata": {},
     "output_type": "execute_result"
    }
   ],
   "source": [
    "#cheking the datatype in array\n",
    "test_arr.dtype"
   ]
  },
  {
   "cell_type": "raw",
   "id": "a4f58f41-79d6-4b2d-87a1-fb58cad88ae5",
   "metadata": {},
   "source": [
    "MATHEMATICAL OPERATIONS on numpy array"
   ]
  },
  {
   "cell_type": "code",
   "execution_count": 22,
   "id": "eec3c540-02de-4d1e-bb2b-42216b3c4eb6",
   "metadata": {},
   "outputs": [
    {
     "name": "stdout",
     "output_type": "stream",
     "text": [
      "Addition: \n",
      " [[28 20]\n",
      " [21 18]]\n",
      "Subtraction: \n",
      " [[-10 -16]\n",
      " [ -5 -16]]\n",
      "Multiplication: \n",
      " [[171  36]\n",
      " [104  17]]\n",
      "Division: \n",
      " [[0.47368421 0.11111111]\n",
      " [0.61538462 0.05882353]]\n"
     ]
    }
   ],
   "source": [
    "arr1 = np.random.randint(0,10,(2,2))\n",
    "arr2 = np.random.randint(11,20,(2,2))\n",
    "print(\"Addition: \\n\",arr1+arr2)\n",
    "print(\"Subtraction: \\n\",arr1-arr2)\n",
    "print(\"Multiplication: \\n\",arr1*arr2)\n",
    "print(\"Division: \\n\" ,arr1/arr2)"
   ]
  },
  {
   "cell_type": "code",
   "execution_count": 24,
   "id": "a9796dc1-9726-4d2c-adf4-0ed1e7d103d0",
   "metadata": {},
   "outputs": [
    {
     "name": "stdout",
     "output_type": "stream",
     "text": [
      "Numpy Addition: \n",
      " [[28 20]\n",
      " [21 18]]\n",
      "NUmpy Subtraction: \n",
      " [[-10 -16]\n",
      " [ -5 -16]]\n",
      "Numpy Multiplication: \n",
      " [[171  36]\n",
      " [104  17]]\n",
      "Numpy Division: \n",
      " [[0.47368421 0.11111111]\n",
      " [0.61538462 0.05882353]]\n"
     ]
    }
   ],
   "source": [
    "#through numpy function\n",
    "print(\"Numpy Addition: \\n\",np.add(arr1,arr2))\n",
    "print(\"NUmpy Subtraction: \\n\",np.subtract(arr1,arr2))\n",
    "print(\"Numpy Multiplication: \\n\",np.multiply(arr1,arr2))\n",
    "print(\"Numpy Division: \\n\" ,np.divide(arr1,arr2))"
   ]
  },
  {
   "cell_type": "code",
   "execution_count": 27,
   "id": "36c52c16-bf6b-4519-bd20-0836f2c9b4f1",
   "metadata": {},
   "outputs": [
    {
     "name": "stdout",
     "output_type": "stream",
     "text": [
      "Before transpose: \n",
      " [[17 10 26 18]\n",
      " [17 17 20 15]\n",
      " [11 29 29 29]]\n",
      "Shape before transpose:  (3, 4)\n",
      "After Transpose : \n",
      " [[17 17 11]\n",
      " [10 17 29]\n",
      " [26 20 29]\n",
      " [18 15 29]]\n",
      "Shape after transpose:  (3, 4)\n"
     ]
    }
   ],
   "source": [
    "#Transpose of a array\n",
    "arr3 = np.random.randint(10,30,(3,4))\n",
    "print(\"Before transpose: \\n\",arr3)\n",
    "print(\"Shape before transpose: \",arr3.shape)\n",
    "\n",
    "print(\"After Transpose : \\n\",np.transpose(arr3))\n",
    "print(\"Shape after transpose: \",arr3.shape)"
   ]
  },
  {
   "cell_type": "code",
   "execution_count": 29,
   "id": "c5ceedb4-7514-4aa5-b42a-9a23475a9a2f",
   "metadata": {},
   "outputs": [
    {
     "name": "stdout",
     "output_type": "stream",
     "text": [
      "Before transpose: \n",
      " [[15 11 10 15]\n",
      " [15 29 29 14]\n",
      " [16 16 17 25]]\n",
      "Shape before transpose:  (3, 4)\n",
      "After Transpose : \n",
      " [[17 17 11]\n",
      " [10 17 29]\n",
      " [26 20 29]\n",
      " [18 15 29]]\n",
      "Shape after transpose:  (4, 3)\n"
     ]
    }
   ],
   "source": [
    "#Transpose using .T function\n",
    "arr4 = np.random.randint(10,30,(3,4))\n",
    "print(\"Before transpose: \\n\",arr4)\n",
    "print(\"Shape before transpose: \",arr4.shape)\n",
    "\n",
    "trans = arr3.T\n",
    "print(\"After Transpose : \\n\",trans)\n",
    "print(\"Shape after transpose: \",trans.shape)"
   ]
  },
  {
   "cell_type": "code",
   "execution_count": null,
   "id": "40e27dd1-6352-465d-8d4a-1bfa6f2f3814",
   "metadata": {},
   "outputs": [],
   "source": [
    "#Reshaping an numpy array\n",
    "arr_A = np.random.randint(0,10,(2,3))\n",
    "print(\"Array A :-> \",arr_A)\n",
    "\n",
    "arr_B = arr_A.reshape((3,2))\n",
    "print(\"Reshaped array:-> \",a"
   ]
  }
 ],
 "metadata": {
  "kernelspec": {
   "display_name": "Python 3 (ipykernel)",
   "language": "python",
   "name": "python3"
  },
  "language_info": {
   "codemirror_mode": {
    "name": "ipython",
    "version": 3
   },
   "file_extension": ".py",
   "mimetype": "text/x-python",
   "name": "python",
   "nbconvert_exporter": "python",
   "pygments_lexer": "ipython3",
   "version": "3.12.4"
  }
 },
 "nbformat": 4,
 "nbformat_minor": 5
}
