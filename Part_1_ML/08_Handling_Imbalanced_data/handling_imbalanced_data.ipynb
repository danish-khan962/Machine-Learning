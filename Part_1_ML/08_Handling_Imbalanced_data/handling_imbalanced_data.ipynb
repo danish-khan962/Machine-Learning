{
 "cells": [
  {
   "cell_type": "raw",
   "id": "b17e64ba-ebc9-44af-88a5-60ca96152bf3",
   "metadata": {},
   "source": [
    "IMBALANCED DATA:\n",
    "A dataset with an unequal class distribution"
   ]
  },
  {
   "cell_type": "code",
   "execution_count": 1,
   "id": "8f246831-b19a-4e76-aee7-9ff621356f00",
   "metadata": {},
   "outputs": [],
   "source": [
    "#IMBALANCED DATA:\n",
    "#A dataset with an unequal class distribution"
   ]
  },
  {
   "cell_type": "code",
   "execution_count": 2,
   "id": "815e8997-5478-4b56-a123-d6152b08dd29",
   "metadata": {},
   "outputs": [],
   "source": [
    "import numpy as np\n",
    "import pandas as pd\n",
    "import matplotlib.pyplot as plt\n",
    "import seaborn as sns"
   ]
  },
  {
   "cell_type": "code",
   "execution_count": 3,
   "id": "dbc384d2-5919-47b5-a76e-4b485806ffb8",
   "metadata": {},
   "outputs": [],
   "source": [
    "credit_dataset = pd.read_csv('credit_data.csv')\n",
    "credit_df = pd.DataFrame(credit_dataset)"
   ]
  },
  {
   "cell_type": "code",
   "execution_count": 4,
   "id": "c2b7c91d-83ad-4340-a2b0-481669da56fb",
   "metadata": {},
   "outputs": [
    {
     "data": {
      "text/html": [
       "<div>\n",
       "<style scoped>\n",
       "    .dataframe tbody tr th:only-of-type {\n",
       "        vertical-align: middle;\n",
       "    }\n",
       "\n",
       "    .dataframe tbody tr th {\n",
       "        vertical-align: top;\n",
       "    }\n",
       "\n",
       "    .dataframe thead th {\n",
       "        text-align: right;\n",
       "    }\n",
       "</style>\n",
       "<table border=\"1\" class=\"dataframe\">\n",
       "  <thead>\n",
       "    <tr style=\"text-align: right;\">\n",
       "      <th></th>\n",
       "      <th>Time</th>\n",
       "      <th>V1</th>\n",
       "      <th>V2</th>\n",
       "      <th>V3</th>\n",
       "      <th>V4</th>\n",
       "      <th>V5</th>\n",
       "      <th>V6</th>\n",
       "      <th>V7</th>\n",
       "      <th>V8</th>\n",
       "      <th>V9</th>\n",
       "      <th>...</th>\n",
       "      <th>V21</th>\n",
       "      <th>V22</th>\n",
       "      <th>V23</th>\n",
       "      <th>V24</th>\n",
       "      <th>V25</th>\n",
       "      <th>V26</th>\n",
       "      <th>V27</th>\n",
       "      <th>V28</th>\n",
       "      <th>Amount</th>\n",
       "      <th>Class</th>\n",
       "    </tr>\n",
       "  </thead>\n",
       "  <tbody>\n",
       "    <tr>\n",
       "      <th>0</th>\n",
       "      <td>0.0</td>\n",
       "      <td>-1.359807</td>\n",
       "      <td>-0.072781</td>\n",
       "      <td>2.536347</td>\n",
       "      <td>1.378155</td>\n",
       "      <td>-0.338321</td>\n",
       "      <td>0.462388</td>\n",
       "      <td>0.239599</td>\n",
       "      <td>0.098698</td>\n",
       "      <td>0.363787</td>\n",
       "      <td>...</td>\n",
       "      <td>-0.018307</td>\n",
       "      <td>0.277838</td>\n",
       "      <td>-0.110474</td>\n",
       "      <td>0.066928</td>\n",
       "      <td>0.128539</td>\n",
       "      <td>-0.189115</td>\n",
       "      <td>0.133558</td>\n",
       "      <td>-0.021053</td>\n",
       "      <td>149.62</td>\n",
       "      <td>0</td>\n",
       "    </tr>\n",
       "    <tr>\n",
       "      <th>1</th>\n",
       "      <td>0.0</td>\n",
       "      <td>1.191857</td>\n",
       "      <td>0.266151</td>\n",
       "      <td>0.166480</td>\n",
       "      <td>0.448154</td>\n",
       "      <td>0.060018</td>\n",
       "      <td>-0.082361</td>\n",
       "      <td>-0.078803</td>\n",
       "      <td>0.085102</td>\n",
       "      <td>-0.255425</td>\n",
       "      <td>...</td>\n",
       "      <td>-0.225775</td>\n",
       "      <td>-0.638672</td>\n",
       "      <td>0.101288</td>\n",
       "      <td>-0.339846</td>\n",
       "      <td>0.167170</td>\n",
       "      <td>0.125895</td>\n",
       "      <td>-0.008983</td>\n",
       "      <td>0.014724</td>\n",
       "      <td>2.69</td>\n",
       "      <td>0</td>\n",
       "    </tr>\n",
       "    <tr>\n",
       "      <th>2</th>\n",
       "      <td>1.0</td>\n",
       "      <td>-1.358354</td>\n",
       "      <td>-1.340163</td>\n",
       "      <td>1.773209</td>\n",
       "      <td>0.379780</td>\n",
       "      <td>-0.503198</td>\n",
       "      <td>1.800499</td>\n",
       "      <td>0.791461</td>\n",
       "      <td>0.247676</td>\n",
       "      <td>-1.514654</td>\n",
       "      <td>...</td>\n",
       "      <td>0.247998</td>\n",
       "      <td>0.771679</td>\n",
       "      <td>0.909412</td>\n",
       "      <td>-0.689281</td>\n",
       "      <td>-0.327642</td>\n",
       "      <td>-0.139097</td>\n",
       "      <td>-0.055353</td>\n",
       "      <td>-0.059752</td>\n",
       "      <td>378.66</td>\n",
       "      <td>0</td>\n",
       "    </tr>\n",
       "    <tr>\n",
       "      <th>3</th>\n",
       "      <td>1.0</td>\n",
       "      <td>-0.966272</td>\n",
       "      <td>-0.185226</td>\n",
       "      <td>1.792993</td>\n",
       "      <td>-0.863291</td>\n",
       "      <td>-0.010309</td>\n",
       "      <td>1.247203</td>\n",
       "      <td>0.237609</td>\n",
       "      <td>0.377436</td>\n",
       "      <td>-1.387024</td>\n",
       "      <td>...</td>\n",
       "      <td>-0.108300</td>\n",
       "      <td>0.005274</td>\n",
       "      <td>-0.190321</td>\n",
       "      <td>-1.175575</td>\n",
       "      <td>0.647376</td>\n",
       "      <td>-0.221929</td>\n",
       "      <td>0.062723</td>\n",
       "      <td>0.061458</td>\n",
       "      <td>123.50</td>\n",
       "      <td>0</td>\n",
       "    </tr>\n",
       "    <tr>\n",
       "      <th>4</th>\n",
       "      <td>2.0</td>\n",
       "      <td>-1.158233</td>\n",
       "      <td>0.877737</td>\n",
       "      <td>1.548718</td>\n",
       "      <td>0.403034</td>\n",
       "      <td>-0.407193</td>\n",
       "      <td>0.095921</td>\n",
       "      <td>0.592941</td>\n",
       "      <td>-0.270533</td>\n",
       "      <td>0.817739</td>\n",
       "      <td>...</td>\n",
       "      <td>-0.009431</td>\n",
       "      <td>0.798278</td>\n",
       "      <td>-0.137458</td>\n",
       "      <td>0.141267</td>\n",
       "      <td>-0.206010</td>\n",
       "      <td>0.502292</td>\n",
       "      <td>0.219422</td>\n",
       "      <td>0.215153</td>\n",
       "      <td>69.99</td>\n",
       "      <td>0</td>\n",
       "    </tr>\n",
       "  </tbody>\n",
       "</table>\n",
       "<p>5 rows × 31 columns</p>\n",
       "</div>"
      ],
      "text/plain": [
       "   Time        V1        V2        V3        V4        V5        V6        V7  \\\n",
       "0   0.0 -1.359807 -0.072781  2.536347  1.378155 -0.338321  0.462388  0.239599   \n",
       "1   0.0  1.191857  0.266151  0.166480  0.448154  0.060018 -0.082361 -0.078803   \n",
       "2   1.0 -1.358354 -1.340163  1.773209  0.379780 -0.503198  1.800499  0.791461   \n",
       "3   1.0 -0.966272 -0.185226  1.792993 -0.863291 -0.010309  1.247203  0.237609   \n",
       "4   2.0 -1.158233  0.877737  1.548718  0.403034 -0.407193  0.095921  0.592941   \n",
       "\n",
       "         V8        V9  ...       V21       V22       V23       V24       V25  \\\n",
       "0  0.098698  0.363787  ... -0.018307  0.277838 -0.110474  0.066928  0.128539   \n",
       "1  0.085102 -0.255425  ... -0.225775 -0.638672  0.101288 -0.339846  0.167170   \n",
       "2  0.247676 -1.514654  ...  0.247998  0.771679  0.909412 -0.689281 -0.327642   \n",
       "3  0.377436 -1.387024  ... -0.108300  0.005274 -0.190321 -1.175575  0.647376   \n",
       "4 -0.270533  0.817739  ... -0.009431  0.798278 -0.137458  0.141267 -0.206010   \n",
       "\n",
       "        V26       V27       V28  Amount  Class  \n",
       "0 -0.189115  0.133558 -0.021053  149.62      0  \n",
       "1  0.125895 -0.008983  0.014724    2.69      0  \n",
       "2 -0.139097 -0.055353 -0.059752  378.66      0  \n",
       "3 -0.221929  0.062723  0.061458  123.50      0  \n",
       "4  0.502292  0.219422  0.215153   69.99      0  \n",
       "\n",
       "[5 rows x 31 columns]"
      ]
     },
     "execution_count": 4,
     "metadata": {},
     "output_type": "execute_result"
    }
   ],
   "source": [
    "credit_df.head()"
   ]
  },
  {
   "cell_type": "code",
   "execution_count": 5,
   "id": "4d80b41e-287c-475f-adff-c1b24aadd8fd",
   "metadata": {},
   "outputs": [
    {
     "data": {
      "text/plain": [
       "(284807, 31)"
      ]
     },
     "execution_count": 5,
     "metadata": {},
     "output_type": "execute_result"
    }
   ],
   "source": [
    "credit_df.shape"
   ]
  },
  {
   "cell_type": "code",
   "execution_count": 6,
   "id": "bf5a61ca-8b3d-4c4b-b00b-32bd14ab4705",
   "metadata": {},
   "outputs": [
    {
     "data": {
      "text/plain": [
       "Time      0\n",
       "V1        0\n",
       "V2        0\n",
       "V3        0\n",
       "V4        0\n",
       "V5        0\n",
       "V6        0\n",
       "V7        0\n",
       "V8        0\n",
       "V9        0\n",
       "V10       0\n",
       "V11       0\n",
       "V12       0\n",
       "V13       0\n",
       "V14       0\n",
       "V15       0\n",
       "V16       0\n",
       "V17       0\n",
       "V18       0\n",
       "V19       0\n",
       "V20       0\n",
       "V21       0\n",
       "V22       0\n",
       "V23       0\n",
       "V24       0\n",
       "V25       0\n",
       "V26       0\n",
       "V27       0\n",
       "V28       0\n",
       "Amount    0\n",
       "Class     0\n",
       "dtype: int64"
      ]
     },
     "execution_count": 6,
     "metadata": {},
     "output_type": "execute_result"
    }
   ],
   "source": [
    "credit_df.isnull().sum()"
   ]
  },
  {
   "cell_type": "code",
   "execution_count": 7,
   "id": "1610fc28-7def-4cf0-8ca5-9add15a89a2e",
   "metadata": {},
   "outputs": [
    {
     "data": {
      "text/plain": [
       "Class\n",
       "0    284315\n",
       "1       492\n",
       "Name: count, dtype: int64"
      ]
     },
     "execution_count": 7,
     "metadata": {},
     "output_type": "execute_result"
    }
   ],
   "source": [
    "#Distribution of the two classes\n",
    "credit_df['Class'].value_counts()"
   ]
  },
  {
   "cell_type": "code",
   "execution_count": 8,
   "id": "5cc71475-4a10-4e83-b66b-87c1ff9bc706",
   "metadata": {},
   "outputs": [],
   "source": [
    "#This is highly imbalanced dataset \n",
    "#   0-> legit transactions\n",
    "#   1-> Fraud transactions"
   ]
  },
  {
   "cell_type": "code",
   "execution_count": 9,
   "id": "c20cfaa3-f91a-4ff5-8e20-073ee160ce97",
   "metadata": {},
   "outputs": [],
   "source": [
    "#Separating the legit and frauduelent data\n",
    "legit = credit_df[credit_df.Class == 0]\n",
    "fraud = credit_df[credit_df.Class == 1]"
   ]
  },
  {
   "cell_type": "code",
   "execution_count": 10,
   "id": "d7cbc799-f982-4e28-992f-5cd5d2afee6f",
   "metadata": {},
   "outputs": [
    {
     "data": {
      "text/plain": [
       "(284315, 31)"
      ]
     },
     "execution_count": 10,
     "metadata": {},
     "output_type": "execute_result"
    }
   ],
   "source": [
    "legit.shape"
   ]
  },
  {
   "cell_type": "code",
   "execution_count": 11,
   "id": "9d0f4107-bf52-4a5a-91f9-4130f68ca14c",
   "metadata": {},
   "outputs": [
    {
     "data": {
      "text/plain": [
       "(492, 31)"
      ]
     },
     "execution_count": 11,
     "metadata": {},
     "output_type": "execute_result"
    }
   ],
   "source": [
    "fraud.shape"
   ]
  },
  {
   "cell_type": "raw",
   "id": "63c0b768-9b34-498f-bfcf-e86655d4cbb3",
   "metadata": {},
   "source": [
    "UNDERSAMPLING"
   ]
  },
  {
   "cell_type": "code",
   "execution_count": 12,
   "id": "7c0c0bce-3820-48a0-ad46-010ab226da55",
   "metadata": {},
   "outputs": [],
   "source": [
    "#Undersampling : \n",
    "#Building a sample dataset containing similar distribution of legit and fraud transactions\n",
    "#Number of fraud transcation = 492"
   ]
  },
  {
   "cell_type": "code",
   "execution_count": 13,
   "id": "37b8b079-ce51-4cb2-a194-11a7c33ab455",
   "metadata": {},
   "outputs": [],
   "source": [
    "legit_sample = legit.sample(n=492)"
   ]
  },
  {
   "cell_type": "code",
   "execution_count": 14,
   "id": "b65f1b31-f8da-475d-99f9-fd63566a21ec",
   "metadata": {},
   "outputs": [
    {
     "data": {
      "text/plain": [
       "(492, 31)"
      ]
     },
     "execution_count": 14,
     "metadata": {},
     "output_type": "execute_result"
    }
   ],
   "source": [
    "legit_sample.shape"
   ]
  },
  {
   "cell_type": "code",
   "execution_count": 16,
   "id": "af545933-b390-43d8-a7b4-0c605fb74b42",
   "metadata": {},
   "outputs": [],
   "source": [
    "#Concatnate the two DataFrames \n",
    "new_dataset = pd.concat([legit_sample, fraud], axis=0)"
   ]
  },
  {
   "cell_type": "code",
   "execution_count": 17,
   "id": "2fa61f08-d3c0-4345-ab2c-d57c29ddedb6",
   "metadata": {},
   "outputs": [
    {
     "data": {
      "text/plain": [
       "(984, 31)"
      ]
     },
     "execution_count": 17,
     "metadata": {},
     "output_type": "execute_result"
    }
   ],
   "source": [
    "new_dataset.shape"
   ]
  },
  {
   "cell_type": "code",
   "execution_count": 18,
   "id": "1d17c946-78e8-4391-902b-f6cc409a4150",
   "metadata": {},
   "outputs": [
    {
     "data": {
      "text/html": [
       "<div>\n",
       "<style scoped>\n",
       "    .dataframe tbody tr th:only-of-type {\n",
       "        vertical-align: middle;\n",
       "    }\n",
       "\n",
       "    .dataframe tbody tr th {\n",
       "        vertical-align: top;\n",
       "    }\n",
       "\n",
       "    .dataframe thead th {\n",
       "        text-align: right;\n",
       "    }\n",
       "</style>\n",
       "<table border=\"1\" class=\"dataframe\">\n",
       "  <thead>\n",
       "    <tr style=\"text-align: right;\">\n",
       "      <th></th>\n",
       "      <th>Time</th>\n",
       "      <th>V1</th>\n",
       "      <th>V2</th>\n",
       "      <th>V3</th>\n",
       "      <th>V4</th>\n",
       "      <th>V5</th>\n",
       "      <th>V6</th>\n",
       "      <th>V7</th>\n",
       "      <th>V8</th>\n",
       "      <th>V9</th>\n",
       "      <th>...</th>\n",
       "      <th>V21</th>\n",
       "      <th>V22</th>\n",
       "      <th>V23</th>\n",
       "      <th>V24</th>\n",
       "      <th>V25</th>\n",
       "      <th>V26</th>\n",
       "      <th>V27</th>\n",
       "      <th>V28</th>\n",
       "      <th>Amount</th>\n",
       "      <th>Class</th>\n",
       "    </tr>\n",
       "  </thead>\n",
       "  <tbody>\n",
       "    <tr>\n",
       "      <th>63666</th>\n",
       "      <td>50821.0</td>\n",
       "      <td>-0.554491</td>\n",
       "      <td>0.664154</td>\n",
       "      <td>1.094254</td>\n",
       "      <td>0.455625</td>\n",
       "      <td>-0.379716</td>\n",
       "      <td>-0.384942</td>\n",
       "      <td>-0.025613</td>\n",
       "      <td>0.489758</td>\n",
       "      <td>-0.035911</td>\n",
       "      <td>...</td>\n",
       "      <td>0.132945</td>\n",
       "      <td>0.478934</td>\n",
       "      <td>0.081843</td>\n",
       "      <td>0.462092</td>\n",
       "      <td>-0.560562</td>\n",
       "      <td>0.271601</td>\n",
       "      <td>-0.010851</td>\n",
       "      <td>0.001735</td>\n",
       "      <td>11.50</td>\n",
       "      <td>0</td>\n",
       "    </tr>\n",
       "    <tr>\n",
       "      <th>99378</th>\n",
       "      <td>67091.0</td>\n",
       "      <td>1.240333</td>\n",
       "      <td>0.219701</td>\n",
       "      <td>-0.175166</td>\n",
       "      <td>0.763671</td>\n",
       "      <td>0.557629</td>\n",
       "      <td>0.443742</td>\n",
       "      <td>0.082119</td>\n",
       "      <td>-0.034304</td>\n",
       "      <td>0.012347</td>\n",
       "      <td>...</td>\n",
       "      <td>0.081147</td>\n",
       "      <td>0.343447</td>\n",
       "      <td>-0.316621</td>\n",
       "      <td>-1.269550</td>\n",
       "      <td>0.846854</td>\n",
       "      <td>-0.142798</td>\n",
       "      <td>0.040309</td>\n",
       "      <td>0.011689</td>\n",
       "      <td>30.49</td>\n",
       "      <td>0</td>\n",
       "    </tr>\n",
       "    <tr>\n",
       "      <th>22563</th>\n",
       "      <td>32310.0</td>\n",
       "      <td>1.156857</td>\n",
       "      <td>-0.134686</td>\n",
       "      <td>1.007508</td>\n",
       "      <td>1.070117</td>\n",
       "      <td>-0.629162</td>\n",
       "      <td>0.508041</td>\n",
       "      <td>-0.707891</td>\n",
       "      <td>0.308035</td>\n",
       "      <td>0.747941</td>\n",
       "      <td>...</td>\n",
       "      <td>-0.060804</td>\n",
       "      <td>-0.025186</td>\n",
       "      <td>-0.096759</td>\n",
       "      <td>-0.359023</td>\n",
       "      <td>0.461030</td>\n",
       "      <td>-0.382586</td>\n",
       "      <td>0.064657</td>\n",
       "      <td>0.020316</td>\n",
       "      <td>9.99</td>\n",
       "      <td>0</td>\n",
       "    </tr>\n",
       "    <tr>\n",
       "      <th>2113</th>\n",
       "      <td>1627.0</td>\n",
       "      <td>-0.953611</td>\n",
       "      <td>1.447281</td>\n",
       "      <td>0.540884</td>\n",
       "      <td>0.484829</td>\n",
       "      <td>1.086185</td>\n",
       "      <td>-1.112102</td>\n",
       "      <td>2.087793</td>\n",
       "      <td>-1.653976</td>\n",
       "      <td>1.565212</td>\n",
       "      <td>...</td>\n",
       "      <td>-0.343364</td>\n",
       "      <td>0.671122</td>\n",
       "      <td>-0.029019</td>\n",
       "      <td>0.378211</td>\n",
       "      <td>-0.606462</td>\n",
       "      <td>-0.588946</td>\n",
       "      <td>-0.371882</td>\n",
       "      <td>-0.775072</td>\n",
       "      <td>1.23</td>\n",
       "      <td>0</td>\n",
       "    </tr>\n",
       "    <tr>\n",
       "      <th>102269</th>\n",
       "      <td>68111.0</td>\n",
       "      <td>-0.685235</td>\n",
       "      <td>-0.791945</td>\n",
       "      <td>3.101388</td>\n",
       "      <td>1.098874</td>\n",
       "      <td>-0.803735</td>\n",
       "      <td>0.315929</td>\n",
       "      <td>-0.968778</td>\n",
       "      <td>0.239347</td>\n",
       "      <td>-0.256780</td>\n",
       "      <td>...</td>\n",
       "      <td>-0.185997</td>\n",
       "      <td>0.269600</td>\n",
       "      <td>0.143891</td>\n",
       "      <td>0.577974</td>\n",
       "      <td>-0.593252</td>\n",
       "      <td>-0.226092</td>\n",
       "      <td>0.087917</td>\n",
       "      <td>-0.037322</td>\n",
       "      <td>29.00</td>\n",
       "      <td>0</td>\n",
       "    </tr>\n",
       "  </tbody>\n",
       "</table>\n",
       "<p>5 rows × 31 columns</p>\n",
       "</div>"
      ],
      "text/plain": [
       "           Time        V1        V2        V3        V4        V5        V6  \\\n",
       "63666   50821.0 -0.554491  0.664154  1.094254  0.455625 -0.379716 -0.384942   \n",
       "99378   67091.0  1.240333  0.219701 -0.175166  0.763671  0.557629  0.443742   \n",
       "22563   32310.0  1.156857 -0.134686  1.007508  1.070117 -0.629162  0.508041   \n",
       "2113     1627.0 -0.953611  1.447281  0.540884  0.484829  1.086185 -1.112102   \n",
       "102269  68111.0 -0.685235 -0.791945  3.101388  1.098874 -0.803735  0.315929   \n",
       "\n",
       "              V7        V8        V9  ...       V21       V22       V23  \\\n",
       "63666  -0.025613  0.489758 -0.035911  ...  0.132945  0.478934  0.081843   \n",
       "99378   0.082119 -0.034304  0.012347  ...  0.081147  0.343447 -0.316621   \n",
       "22563  -0.707891  0.308035  0.747941  ... -0.060804 -0.025186 -0.096759   \n",
       "2113    2.087793 -1.653976  1.565212  ... -0.343364  0.671122 -0.029019   \n",
       "102269 -0.968778  0.239347 -0.256780  ... -0.185997  0.269600  0.143891   \n",
       "\n",
       "             V24       V25       V26       V27       V28  Amount  Class  \n",
       "63666   0.462092 -0.560562  0.271601 -0.010851  0.001735   11.50      0  \n",
       "99378  -1.269550  0.846854 -0.142798  0.040309  0.011689   30.49      0  \n",
       "22563  -0.359023  0.461030 -0.382586  0.064657  0.020316    9.99      0  \n",
       "2113    0.378211 -0.606462 -0.588946 -0.371882 -0.775072    1.23      0  \n",
       "102269  0.577974 -0.593252 -0.226092  0.087917 -0.037322   29.00      0  \n",
       "\n",
       "[5 rows x 31 columns]"
      ]
     },
     "execution_count": 18,
     "metadata": {},
     "output_type": "execute_result"
    }
   ],
   "source": [
    "new_dataset.head()"
   ]
  },
  {
   "cell_type": "code",
   "execution_count": 19,
   "id": "90bf6c6a-1930-45e7-8e11-284dba401c81",
   "metadata": {},
   "outputs": [
    {
     "data": {
      "text/plain": [
       "Class\n",
       "0    492\n",
       "1    492\n",
       "Name: count, dtype: int64"
      ]
     },
     "execution_count": 19,
     "metadata": {},
     "output_type": "execute_result"
    }
   ],
   "source": [
    "new_dataset['Class'].value_counts()"
   ]
  },
  {
   "cell_type": "code",
   "execution_count": null,
   "id": "d0a25a39-7d0c-4557-9624-af77e7277a23",
   "metadata": {},
   "outputs": [],
   "source": []
  }
 ],
 "metadata": {
  "kernelspec": {
   "display_name": "Python 3 (ipykernel)",
   "language": "python",
   "name": "python3"
  },
  "language_info": {
   "codemirror_mode": {
    "name": "ipython",
    "version": 3
   },
   "file_extension": ".py",
   "mimetype": "text/x-python",
   "name": "python",
   "nbconvert_exporter": "python",
   "pygments_lexer": "ipython3",
   "version": "3.12.4"
  }
 },
 "nbformat": 4,
 "nbformat_minor": 5
}
