{
 "cells": [
  {
   "cell_type": "raw",
   "id": "7ba851d1-5cd8-4b68-afea-f1a3eaa66d5b",
   "metadata": {},
   "source": [
    "FEATURE EXTRACTION:\n",
    "    The mapping from textual data to real valued vectors is called feature extraction."
   ]
  },
  {
   "cell_type": "code",
   "execution_count": 1,
   "id": "f1ff4f2f-d573-4c2c-b413-7df78ec6f460",
   "metadata": {},
   "outputs": [],
   "source": [
    "#FEATURE EXTRACTION:\n",
    "#    The mapping from textual data to real valued vectors is called feature extraction."
   ]
  },
  {
   "cell_type": "raw",
   "id": "3bac5252-0896-4f0d-8044-de3134fe1eda",
   "metadata": {},
   "source": [
    "1. BAG OF WORDS (BOW) => list of unique words in the text corpus(collection of words)\n",
    "\n",
    "2. TERM FREQUENCY - INVERSE DOCUMENT FREQUENCY (TF-IDF) => To count the number of times each word appears in the document."
   ]
  },
  {
   "cell_type": "code",
   "execution_count": 2,
   "id": "ab2e8a8c-66a7-435c-b7f8-2229b78127ac",
   "metadata": {},
   "outputs": [],
   "source": [
    "#1. BAG OF WORDS (BOW) => list of unique words in the text corpus(collection of words)\n",
    "\n",
    "#2. TERM FREQUENCY - INVERSE DOCUMENT FREQUENCY (TF-IDF) => To count the number of times each word appears in the document."
   ]
  },
  {
   "cell_type": "code",
   "execution_count": null,
   "id": "1dce8f09-470e-4eed-a045-e0a8fa60bcdc",
   "metadata": {},
   "outputs": [],
   "source": []
  }
 ],
 "metadata": {
  "kernelspec": {
   "display_name": "Python 3 (ipykernel)",
   "language": "python",
   "name": "python3"
  },
  "language_info": {
   "codemirror_mode": {
    "name": "ipython",
    "version": 3
   },
   "file_extension": ".py",
   "mimetype": "text/x-python",
   "name": "python",
   "nbconvert_exporter": "python",
   "pygments_lexer": "ipython3",
   "version": "3.12.4"
  }
 },
 "nbformat": 4,
 "nbformat_minor": 5
}
